{
 "cells": [
  {
   "cell_type": "code",
   "execution_count": 5,
   "id": "incredible-flavor",
   "metadata": {},
   "outputs": [
    {
     "name": "stdout",
     "output_type": "stream",
     "text": [
      "download 15 links in 5.184689044952393 seconds\n"
     ]
    }
   ],
   "source": [
    "import requests\n",
    "import time\n",
    "\n",
    "sites = [\n",
    "    \"http://www.google.com\",\n",
    "    \"http://www.github.com\",\n",
    "    \"http://www.youtube.com\",\n",
    "    \"http://www.facebook.com\",\n",
    "    \"http://www.yahoo.com\"\n",
    "]*3\n",
    "\n",
    "results = []\n",
    "\n",
    "def scrape_sites(sites):\n",
    "\n",
    "    for site in sites:\n",
    "        r = requests.get(site)\n",
    "        results.append(r.content)\n",
    "\n",
    "    return results\n",
    "\n",
    "start = time.time()\n",
    "scrape_sites(sites)\n",
    "end = time.time()\n",
    "\n",
    "print(f'download {len(sites)} links in {end - start} seconds')"
   ]
  },
  {
   "cell_type": "code",
   "execution_count": null,
   "id": "minor-cannon",
   "metadata": {},
   "outputs": [],
   "source": []
  }
 ],
 "metadata": {
  "kernelspec": {
   "display_name": "Python 3",
   "language": "python",
   "name": "python3"
  },
  "language_info": {
   "codemirror_mode": {
    "name": "ipython",
    "version": 3
   },
   "file_extension": ".py",
   "mimetype": "text/x-python",
   "name": "python",
   "nbconvert_exporter": "python",
   "pygments_lexer": "ipython3",
   "version": "3.9.5"
  }
 },
 "nbformat": 4,
 "nbformat_minor": 5
}
